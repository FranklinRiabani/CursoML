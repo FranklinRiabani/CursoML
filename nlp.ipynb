{
 "cells": [
  {
   "cell_type": "code",
   "execution_count": 2,
   "metadata": {},
   "outputs": [
    {
     "name": "stdout",
     "output_type": "stream",
     "text": [
      "['Hola', 'Mundo,', 'saludos', 'desde', 'Python']\n"
     ]
    }
   ],
   "source": [
    "texto = \"Hola Mundo, saludos desde Python\"\n",
    "\n",
    "tokens = texto.split()\n",
    "\n",
    "print(tokens)"
   ]
  },
  {
   "cell_type": "code",
   "execution_count": 3,
   "metadata": {},
   "outputs": [
    {
     "name": "stdout",
     "output_type": "stream",
     "text": [
      "['hola,mundo,saludos,desde,python']\n"
     ]
    }
   ],
   "source": [
    "texto2 = \"Hola,Mundo,saludos,desde,Python\"\n",
    "\n",
    "tokens2 = texto2.lower().split()\n",
    "\n",
    "print(tokens2)"
   ]
  },
  {
   "cell_type": "code",
   "execution_count": 3,
   "metadata": {},
   "outputs": [
    {
     "name": "stdout",
     "output_type": "stream",
     "text": [
      "\n",
      "\u001b[1m[\u001b[0m\u001b[34;49mnotice\u001b[0m\u001b[1;39;49m]\u001b[0m\u001b[39;49m A new release of pip is available: \u001b[0m\u001b[31;49m23.2.1\u001b[0m\u001b[39;49m -> \u001b[0m\u001b[32;49m24.2\u001b[0m\n",
      "\u001b[1m[\u001b[0m\u001b[34;49mnotice\u001b[0m\u001b[1;39;49m]\u001b[0m\u001b[39;49m To update, run: \u001b[0m\u001b[32;49mpip install --upgrade pip\u001b[0m\n"
     ]
    }
   ],
   "source": [
    "!pip install nltk -q"
   ]
  },
  {
   "cell_type": "code",
   "execution_count": 4,
   "metadata": {},
   "outputs": [],
   "source": [
    "import nltk"
   ]
  },
  {
   "cell_type": "code",
   "execution_count": 5,
   "metadata": {},
   "outputs": [
    {
     "name": "stderr",
     "output_type": "stream",
     "text": [
      "[nltk_data] Downloading package stopwords to\n",
      "[nltk_data]     /home/codespace/nltk_data...\n",
      "[nltk_data]   Package stopwords is already up-to-date!\n"
     ]
    },
    {
     "data": {
      "text/plain": [
       "True"
      ]
     },
     "execution_count": 5,
     "metadata": {},
     "output_type": "execute_result"
    }
   ],
   "source": [
    "nltk.download('stopwords')"
   ]
  },
  {
   "cell_type": "code",
   "execution_count": 6,
   "metadata": {},
   "outputs": [],
   "source": [
    "from nltk.corpus import stopwords\n",
    "from nltk.tokenize import word_tokenize"
   ]
  },
  {
   "cell_type": "code",
   "execution_count": 7,
   "metadata": {},
   "outputs": [
    {
     "name": "stdout",
     "output_type": "stream",
     "text": [
      "{'suyo', 'estuviera', 'fui', 'uno', 'estos', 'muchos', 'algunas', 'seréis', 'para', 'mí', 'tuviste', 'hubiste', 'estuvieras', 'nosotras', 'eran', 'mis', 'ya', 'mía', 'ti', 'habrá', 'entre', 'estas', 'fuiste', 'estaréis', 'estuviesen', 'hubieran', 'fueses', 'ellas', 'tendrá', 'serán', 'sería', 'fueron', 'tengáis', 'a', 'con', 'habría', 'estáis', 'esos', 'no', 'mías', 'o', 'tendré', 'estar', 'sentidos', 'otras', 'ella', 'hayamos', 'como', 'suyas', 'tuvimos', 'tenían', 'también', 'fuisteis', 'nuestro', 'seas', 'vuestras', 'nada', 'habríamos', 'es', 'las', 'tenemos', 'tuviesen', 'estuvieron', 'otro', 'habríais', 'tengan', 'habréis', 'en', 'sobre', 'cuando', 'de', 'seríais', 'tendrás', 'serías', 'vuestros', 'fuera', 'qué', 'ni', 'nosotros', 'estaremos', 'eras', 'fueras', 'estaríamos', 'has', 'hubisteis', 'tendremos', 'tenga', 'todo', 'hubo', 'pero', 'estad', 'estarás', 'sí', 'ellos', 'tendríamos', 'estarías', 'una', 'fuimos', 'estoy', 'está', 'teníais', 'era', 'lo', 'le', 'estuvimos', 'esta', 'tendrías', 'otra', 'su', 'sean', 'tengas', 'tanto', 'sentida', 'porque', 'habrían', 'quienes', 'tuyas', 'estuviese', 'estamos', 'estábamos', 'otros', 'contra', 'estuviésemos', 'hubieron', 'tuvieran', 'hayas', 'hubiéramos', 'desde', 'han', 'hubieseis', 'habían', 'tienen', 'habías', 'estaré', 'habrás', 'cual', 'hubimos', 'tengamos', 'tus', 'todos', 'tenía', 'hasta', 'tu', 'estaban', 'tenidas', 'serían', 'tuve', 'mío', 'muy', 'suyos', 'somos', 'tendrán', 'estaba', 'nuestra', 'hemos', 'tienes', 'fuesen', 'sois', 'antes', 'estados', 'ante', 'sus', 'míos', 'tengo', 'sin', 'hubiésemos', 'teniendo', 'tenida', 'nuestros', 'estuvieseis', 'habíamos', 'habido', 'me', 'hubiesen', 'unos', 'durante', 'yo', 'estuviste', 'estés', 'esté', 'vuestro', 'donde', 'estuvo', 'suya', 'tuvieses', 'erais', 'e', 'había', 'habiendo', 'habremos', 'estada', 'hayáis', 'son', 'seremos', 'vuestra', 'algo', 'sentido', 'estuviéramos', 'estabas', 'mi', 'este', 'él', 'estabais', 'habrán', 'habrías', 'soy', 'será', 'estaríais', 'que', 'tendría', 'estás', 'tuviese', 'seríamos', 'tenidos', 'seáis', 'seré', 'estuvisteis', 'y', 'hubieras', 'habré', 'hube', 'hayan', 'tuvieseis', 'serás', 'estemos', 'sintiendo', 'hubieses', 'por', 'vosotros', 'al', 'sentid', 'tú', 'esas', 'tuviésemos', 'tuvo', 'estarán', 'ese', 'del', 'tendréis', 'estuvieses', 'estará', 'más', 'Hola', 'éramos', 'estarían', 'hubiese', 'habidas', 'fuésemos', 'estadas', 'hay', 'tiene', 'algunos', 'he', 'fueran', 'los', 'estuvieran', 'estuve', 'eso', 'tendrían', 'tenías', 'estado', 'nos', 'esa', 'teníamos', 'se', 'estando', 'tenéis', 'tuyo', 'mucho', 'vosotras', 'fue', 'sentidas', 'tenido', 'tuvierais', 'fuese', 'tuviéramos', 'estéis', 'sea', 'quien', 'haya', 'nuestras', 'estuvierais', 'habida', 'siente', 'tuvisteis', 'habéis', 'tendríais', 'tuvieron', 'les', 'fuerais', 'hubiera', 'fueseis', 'eres', 'están', 'habíais', 'fuéramos', 'tened', 'seamos', 'hubierais', 'tuyos', 'estaría', 'tuya', 'poco', 'un', 'ha', 'habidos', 'el', 'estén', 'tuvieras', 'te', 'la', 'os', 'esto', 'tuviera'}\n"
     ]
    }
   ],
   "source": [
    "stop_words = set(stopwords.words('spanish'))\n",
    "\n",
    "# agregar palabras a la lista de stopwords\n",
    "stop_words.add('Hola')\n",
    "\n",
    "print(stop_words )"
   ]
  },
  {
   "cell_type": "code",
   "execution_count": 8,
   "metadata": {},
   "outputs": [
    {
     "name": "stderr",
     "output_type": "stream",
     "text": [
      "[nltk_data] Downloading package wordnet to\n",
      "[nltk_data]     /home/codespace/nltk_data...\n",
      "[nltk_data]   Package wordnet is already up-to-date!\n"
     ]
    },
    {
     "data": {
      "text/plain": [
       "True"
      ]
     },
     "execution_count": 8,
     "metadata": {},
     "output_type": "execute_result"
    }
   ],
   "source": [
    "nltk.download('wordnet')"
   ]
  },
  {
   "cell_type": "code",
   "execution_count": 9,
   "metadata": {},
   "outputs": [
    {
     "name": "stderr",
     "output_type": "stream",
     "text": [
      "[nltk_data] Downloading package punkt_tab to\n",
      "[nltk_data]     /home/codespace/nltk_data...\n",
      "[nltk_data]   Package punkt_tab is already up-to-date!\n"
     ]
    },
    {
     "data": {
      "text/plain": [
       "True"
      ]
     },
     "execution_count": 9,
     "metadata": {},
     "output_type": "execute_result"
    }
   ],
   "source": [
    "nltk.download('punkt_tab')"
   ]
  },
  {
   "cell_type": "code",
   "execution_count": 10,
   "metadata": {},
   "outputs": [],
   "source": [
    "from nltk.corpus import stopwords\n",
    "from nltk.tokenize import word_tokenize"
   ]
  },
  {
   "cell_type": "code",
   "execution_count": 11,
   "metadata": {},
   "outputs": [
    {
     "name": "stdout",
     "output_type": "stream",
     "text": [
      "{'suyo', 'estuviera', 'fui', 'uno', 'estos', 'muchos', 'algunas', 'seréis', 'para', 'mí', 'tuviste', 'hubiste', 'estuvieras', 'nosotras', 'eran', 'mis', 'ya', 'mía', 'ti', 'habrá', 'entre', 'estas', 'fuiste', 'estaréis', 'estuviesen', 'hubieran', 'fueses', 'ellas', 'tendrá', 'serán', 'sería', 'fueron', 'tengáis', 'a', 'con', 'habría', 'estáis', 'esos', 'no', 'mías', 'o', 'tendré', 'estar', 'sentidos', 'otras', 'ella', 'hayamos', 'como', 'suyas', 'tuvimos', 'tenían', 'también', 'fuisteis', 'nuestro', 'seas', 'vuestras', 'nada', 'habríamos', 'es', 'las', 'tenemos', 'tuviesen', 'estuvieron', 'otro', 'habríais', 'tengan', 'habréis', 'en', 'sobre', 'cuando', 'de', 'seríais', 'tendrás', 'serías', 'vuestros', 'fuera', 'qué', 'ni', 'nosotros', 'estaremos', 'eras', 'fueras', 'estaríamos', 'has', 'hubisteis', 'tendremos', 'tenga', 'todo', 'hubo', 'pero', 'estad', 'estarás', 'sí', 'ellos', 'tendríamos', 'estarías', 'una', 'fuimos', 'estoy', 'está', 'teníais', 'era', 'lo', 'le', 'estuvimos', 'esta', 'tendrías', 'otra', 'su', 'sean', 'tengas', 'tanto', 'sentida', 'porque', 'habrían', 'quienes', 'tuyas', 'estuviese', 'estamos', 'estábamos', 'otros', 'contra', 'estuviésemos', 'hubieron', 'tuvieran', 'hayas', 'hubiéramos', 'desde', 'han', 'hubieseis', 'habían', 'tienen', 'habías', 'estaré', 'habrás', 'cual', 'hubimos', 'tengamos', 'tus', 'todos', 'tenía', 'hasta', 'tu', 'estaban', 'tenidas', 'serían', 'tuve', 'mío', 'muy', 'suyos', 'somos', 'tendrán', 'estaba', 'nuestra', 'hemos', 'tienes', 'fuesen', 'sois', 'antes', 'estados', 'ante', 'sus', 'míos', 'tengo', 'sin', 'hubiésemos', 'teniendo', 'tenida', 'nuestros', 'estuvieseis', 'habíamos', 'habido', 'me', 'hubiesen', 'unos', 'durante', 'yo', 'estuviste', 'estés', 'esté', 'vuestro', 'donde', 'estuvo', 'suya', 'tuvieses', 'erais', 'e', 'había', 'habiendo', 'habremos', 'estada', 'hayáis', 'son', 'seremos', 'vuestra', 'algo', 'sentido', 'estuviéramos', 'estabas', 'mi', 'este', 'él', 'estabais', 'habrán', 'habrías', 'soy', 'será', 'estaríais', 'que', 'tendría', 'estás', 'tuviese', 'seríamos', 'tenidos', 'seáis', 'seré', 'estuvisteis', 'y', 'hubieras', 'habré', 'hube', 'hayan', 'tuvieseis', 'serás', 'estemos', 'sintiendo', 'hubieses', 'por', 'vosotros', 'al', 'sentid', 'tú', 'esas', 'tuviésemos', 'tuvo', 'estarán', 'ese', 'del', 'tendréis', 'estuvieses', 'estará', 'más', 'éramos', 'estarían', 'hubiese', 'habidas', 'fuésemos', 'estadas', 'hay', 'tiene', 'algunos', 'he', 'fueran', 'los', 'estuvieran', 'estuve', 'eso', 'tendrían', 'tenías', 'estado', 'nos', 'esa', 'teníamos', 'se', 'estando', 'tenéis', 'tuyo', 'mucho', 'vosotras', 'fue', 'sentidas', 'tenido', 'tuvierais', 'fuese', 'tuviéramos', 'estéis', 'sea', 'quien', 'haya', 'nuestras', 'estuvierais', 'habida', 'siente', 'tuvisteis', 'habéis', 'tendríais', 'tuvieron', 'les', 'fuerais', 'hubiera', 'fueseis', 'eres', 'están', 'habíais', 'fuéramos', 'tened', 'seamos', 'hubierais', 'tuyos', 'estaría', 'tuya', 'poco', 'un', 'ha', 'habidos', 'el', 'estén', 'tuvieras', 'te', 'la', 'os', 'esto', 'tuviera'}\n"
     ]
    }
   ],
   "source": [
    "texto = \"El gato es negro  y el perro es blanco\"\n",
    "\n",
    "stop_words = set(stopwords.words('spanish'))\n",
    "\n",
    "print(stop_words)"
   ]
  },
  {
   "cell_type": "code",
   "execution_count": 12,
   "metadata": {},
   "outputs": [
    {
     "name": "stdout",
     "output_type": "stream",
     "text": [
      "['el', 'gato', 'es', 'negro', 'y', 'el', 'perro', 'es', 'blanco']\n",
      "['gato', 'negro', 'perro', 'blanco']\n"
     ]
    }
   ],
   "source": [
    "texto=texto.lower()\n",
    "\n",
    "tokens = word_tokenize(texto)\n",
    "\n",
    "print(tokens)\n",
    "\n",
    "texto_filtrado=[word for word in tokens if not word in stop_words]\n",
    "\n",
    "print(texto_filtrado)"
   ]
  },
  {
   "cell_type": "code",
   "execution_count": 13,
   "metadata": {},
   "outputs": [
    {
     "name": "stdout",
     "output_type": "stream",
     "text": [
      "camin\n",
      "camin\n",
      "camin\n"
     ]
    },
    {
     "name": "stderr",
     "output_type": "stream",
     "text": [
      "[nltk_data] Downloading package wordnet to\n",
      "[nltk_data]     /home/codespace/nltk_data...\n",
      "[nltk_data]   Package wordnet is already up-to-date!\n"
     ]
    }
   ],
   "source": [
    "nltk.download('wordnet')\n",
    "\n",
    "from nltk.stem import SnowballStemmer\n",
    "\n",
    "stemmer = SnowballStemmer('spanish')\n",
    "\n",
    "print(stemmer.stem('caminando'))\n",
    "print(stemmer.stem('caminar'))\n",
    "print(stemmer.stem('camino'))"
   ]
  },
  {
   "cell_type": "code",
   "execution_count": 22,
   "metadata": {},
   "outputs": [
    {
     "name": "stdout",
     "output_type": "stream",
     "text": [
      "\n",
      "\u001b[1m[\u001b[0m\u001b[34;49mnotice\u001b[0m\u001b[1;39;49m]\u001b[0m\u001b[39;49m A new release of pip is available: \u001b[0m\u001b[31;49m23.2.1\u001b[0m\u001b[39;49m -> \u001b[0m\u001b[32;49m24.2\u001b[0m\n",
      "\u001b[1m[\u001b[0m\u001b[34;49mnotice\u001b[0m\u001b[1;39;49m]\u001b[0m\u001b[39;49m To update, run: \u001b[0m\u001b[32;49mpip install --upgrade pip\u001b[0m\n"
     ]
    }
   ],
   "source": [
    "# lematizacion no hay en spanol\n",
    "\n",
    "!pip install spacy -q"
   ]
  },
  {
   "cell_type": "code",
   "execution_count": 14,
   "metadata": {},
   "outputs": [
    {
     "name": "stdout",
     "output_type": "stream",
     "text": [
      "\n",
      "\u001b[1m[\u001b[0m\u001b[34;49mnotice\u001b[0m\u001b[1;39;49m]\u001b[0m\u001b[39;49m A new release of pip is available: \u001b[0m\u001b[31;49m23.2.1\u001b[0m\u001b[39;49m -> \u001b[0m\u001b[32;49m24.2\u001b[0m\n",
      "\u001b[1m[\u001b[0m\u001b[34;49mnotice\u001b[0m\u001b[1;39;49m]\u001b[0m\u001b[39;49m To update, run: \u001b[0m\u001b[32;49mpip install --upgrade pip\u001b[0m\n",
      "\u001b[38;5;2m✔ Download and installation successful\u001b[0m\n",
      "You can now load the package via spacy.load('es_core_news_sm')\n"
     ]
    }
   ],
   "source": [
    "!python -m spacy download es_core_news_sm -q"
   ]
  },
  {
   "cell_type": "code",
   "execution_count": 15,
   "metadata": {},
   "outputs": [],
   "source": [
    "import spacy"
   ]
  },
  {
   "cell_type": "code",
   "execution_count": null,
   "metadata": {},
   "outputs": [],
   "source": [
    "!python -m spacy download es_core_news_sm\n",
    "\n",
    "import spacy\n",
    "\n",
    "nlp = spacy.load(\"es_core_news_sm\")\n",
    "\n",
    "import es_core_news_sm\n",
    "\n",
    "nlp = es_core_news_sm.load()\n",
    "\n"
   ]
  },
  {
   "cell_type": "code",
   "execution_count": 16,
   "metadata": {},
   "outputs": [],
   "source": [
    "nlp = spacy.load(\"es_core_news_sm\")\n",
    "\n",
    "import es_core_news_sm\n",
    "\n",
    "nlp = es_core_news_sm.load()\n"
   ]
  },
  {
   "cell_type": "code",
   "execution_count": 18,
   "metadata": {},
   "outputs": [
    {
     "name": "stdout",
     "output_type": "stream",
     "text": [
      "[('El', 'DET'), ('gato', 'NOUN'), ('es', 'AUX'), ('negro', 'ADJ'), (' ', 'SPACE'), ('y', 'CCONJ'), ('el', 'DET'), ('perro', 'NOUN'), ('es', 'AUX'), ('blanco', 'ADJ'), ('.', 'PUNCT')]\n"
     ]
    }
   ],
   "source": [
    "doc = nlp(\"El gato es negro  y el perro es blanco.\")\n",
    "print([(w.text, w.pos_) for w in doc])"
   ]
  },
  {
   "cell_type": "code",
   "execution_count": 19,
   "metadata": {},
   "outputs": [
    {
     "name": "stdout",
     "output_type": "stream",
     "text": [
      "caminar -> caminar\n",
      "caminando -> caminar\n",
      "caminare -> caminare\n"
     ]
    }
   ],
   "source": [
    "# cargar modelo en español\n",
    "nlp= spacy.load('es_core_news_sm')\n",
    "\n",
    "# crear un documento\n",
    "doc=nlp('caminar caminando caminare')\n",
    "\n",
    "\n",
    "# imprimir el texto lematizado de cada tokens\n",
    "\n",
    "for token in doc:\n",
    "    print(token.text,'->', token.lemma_)"
   ]
  }
 ],
 "metadata": {
  "kernelspec": {
   "display_name": ".venv",
   "language": "python",
   "name": "python3"
  },
  "language_info": {
   "codemirror_mode": {
    "name": "ipython",
    "version": 3
   },
   "file_extension": ".py",
   "mimetype": "text/x-python",
   "name": "python",
   "nbconvert_exporter": "python",
   "pygments_lexer": "ipython3",
   "version": "3.12.1"
  }
 },
 "nbformat": 4,
 "nbformat_minor": 2
}
